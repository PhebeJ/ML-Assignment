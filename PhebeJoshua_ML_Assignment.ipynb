{
  "nbformat": 4,
  "nbformat_minor": 0,
  "metadata": {
    "colab": {
      "name": "PhebeJoshua_ML_Assignment",
      "provenance": [],
      "collapsed_sections": [],
      "include_colab_link": true
    },
    "kernelspec": {
      "display_name": "Python 3",
      "name": "python3"
    },
    "language_info": {
      "name": "python"
    }
  },
  "cells": [
    {
      "cell_type": "markdown",
      "metadata": {
        "id": "view-in-github",
        "colab_type": "text"
      },
      "source": [
        "<a href=\"https://colab.research.google.com/github/PhebeJ/ML-Assignment/blob/main/PhebeJoshua_ML_Assignment.ipynb\" target=\"_parent\"><img src=\"https://colab.research.google.com/assets/colab-badge.svg\" alt=\"Open In Colab\"/></a>"
      ]
    },
    {
      "cell_type": "code",
      "metadata": {
        "id": "TRma2DKrsC9n"
      },
      "source": [
        "\n",
        "import urllib.request\n",
        "import os.path\n",
        "\n",
        "dataFiles = {\n",
        "    \"car_data.csv\" : \"https://temp-jrj.s3.ap-south-1.amazonaws.com/ml-assignment/car_data.csv\"\n",
        "}\n",
        "\n",
        "for file_name in dataFiles.keys():\n",
        "\n",
        "    fname = file_name\n",
        "\n",
        "    if os.path.isfile(fname):\n",
        "        continue\n",
        "\n",
        "    print(\"Downloading\" , fname , \"form\", dataFiles[file_name])\n",
        "    urllib.request.urlretrieve(dataFiles[file_name], fname)"
      ],
      "execution_count": 3,
      "outputs": []
    },
    {
      "cell_type": "markdown",
      "metadata": {
        "id": "ubW_IlOzDB2t"
      },
      "source": [
        "# Develop a program to reduce the dimensions of dataset given in ‘car_data.csv’. \n",
        "\n",
        "Apply Principal Component Analysis and output a dataset with five attributes. (Note: PCA steps are to be implemented intead of directly invoking it directely )"
      ]
    },
    {
      "cell_type": "code",
      "metadata": {
        "id": "pxqBe79dDLui"
      },
      "source": [
        "import pandas as pd\n",
        "import numpy as np"
      ],
      "execution_count": 4,
      "outputs": []
    },
    {
      "cell_type": "code",
      "metadata": {
        "colab": {
          "base_uri": "https://localhost:8080/",
          "height": 290
        },
        "id": "IdNDMvGODO_N",
        "outputId": "3da14e91-f66d-496b-fb0a-0a63bdaa4d94"
      },
      "source": [
        "df = pd.read_csv('car_data.csv')\n",
        "df.head()"
      ],
      "execution_count": 5,
      "outputs": [
        {
          "output_type": "execute_result",
          "data": {
            "text/html": [
              "<div>\n",
              "<style scoped>\n",
              "    .dataframe tbody tr th:only-of-type {\n",
              "        vertical-align: middle;\n",
              "    }\n",
              "\n",
              "    .dataframe tbody tr th {\n",
              "        vertical-align: top;\n",
              "    }\n",
              "\n",
              "    .dataframe thead th {\n",
              "        text-align: right;\n",
              "    }\n",
              "</style>\n",
              "<table border=\"1\" class=\"dataframe\">\n",
              "  <thead>\n",
              "    <tr style=\"text-align: right;\">\n",
              "      <th></th>\n",
              "      <th>Unnamed: 0</th>\n",
              "      <th>make</th>\n",
              "      <th>fuel_type</th>\n",
              "      <th>aspiration</th>\n",
              "      <th>num_of_doors</th>\n",
              "      <th>body_style</th>\n",
              "      <th>drive_wheels</th>\n",
              "      <th>engine_location</th>\n",
              "      <th>wheel_base</th>\n",
              "      <th>length</th>\n",
              "      <th>width</th>\n",
              "      <th>height</th>\n",
              "      <th>curb_weight</th>\n",
              "      <th>engine_type</th>\n",
              "      <th>num_of_cylinders</th>\n",
              "      <th>engine_size</th>\n",
              "      <th>fuel_system</th>\n",
              "      <th>compression_ratio</th>\n",
              "      <th>horsepower</th>\n",
              "      <th>peak_rpm</th>\n",
              "      <th>city_mpg</th>\n",
              "      <th>highway_mpg</th>\n",
              "      <th>price</th>\n",
              "    </tr>\n",
              "  </thead>\n",
              "  <tbody>\n",
              "    <tr>\n",
              "      <th>0</th>\n",
              "      <td>1</td>\n",
              "      <td>alfa-romero</td>\n",
              "      <td>gas</td>\n",
              "      <td>std</td>\n",
              "      <td>two</td>\n",
              "      <td>convertible</td>\n",
              "      <td>rwd</td>\n",
              "      <td>front</td>\n",
              "      <td>88.6</td>\n",
              "      <td>168.8</td>\n",
              "      <td>64.1</td>\n",
              "      <td>48.8</td>\n",
              "      <td>2548</td>\n",
              "      <td>dohc</td>\n",
              "      <td>four</td>\n",
              "      <td>130</td>\n",
              "      <td>mpfi</td>\n",
              "      <td>9.0</td>\n",
              "      <td>111</td>\n",
              "      <td>5000</td>\n",
              "      <td>21</td>\n",
              "      <td>27</td>\n",
              "      <td>13495</td>\n",
              "    </tr>\n",
              "    <tr>\n",
              "      <th>1</th>\n",
              "      <td>2</td>\n",
              "      <td>alfa-romero</td>\n",
              "      <td>gas</td>\n",
              "      <td>std</td>\n",
              "      <td>two</td>\n",
              "      <td>convertible</td>\n",
              "      <td>rwd</td>\n",
              "      <td>front</td>\n",
              "      <td>88.6</td>\n",
              "      <td>168.8</td>\n",
              "      <td>64.1</td>\n",
              "      <td>48.8</td>\n",
              "      <td>2548</td>\n",
              "      <td>dohc</td>\n",
              "      <td>four</td>\n",
              "      <td>130</td>\n",
              "      <td>mpfi</td>\n",
              "      <td>9.0</td>\n",
              "      <td>111</td>\n",
              "      <td>5000</td>\n",
              "      <td>21</td>\n",
              "      <td>27</td>\n",
              "      <td>16500</td>\n",
              "    </tr>\n",
              "    <tr>\n",
              "      <th>2</th>\n",
              "      <td>3</td>\n",
              "      <td>alfa-romero</td>\n",
              "      <td>gas</td>\n",
              "      <td>std</td>\n",
              "      <td>two</td>\n",
              "      <td>hatchback</td>\n",
              "      <td>rwd</td>\n",
              "      <td>front</td>\n",
              "      <td>94.5</td>\n",
              "      <td>171.2</td>\n",
              "      <td>65.5</td>\n",
              "      <td>52.4</td>\n",
              "      <td>2823</td>\n",
              "      <td>ohcv</td>\n",
              "      <td>six</td>\n",
              "      <td>152</td>\n",
              "      <td>mpfi</td>\n",
              "      <td>9.0</td>\n",
              "      <td>154</td>\n",
              "      <td>5000</td>\n",
              "      <td>19</td>\n",
              "      <td>26</td>\n",
              "      <td>16500</td>\n",
              "    </tr>\n",
              "    <tr>\n",
              "      <th>3</th>\n",
              "      <td>4</td>\n",
              "      <td>audi</td>\n",
              "      <td>gas</td>\n",
              "      <td>std</td>\n",
              "      <td>four</td>\n",
              "      <td>sedan</td>\n",
              "      <td>fwd</td>\n",
              "      <td>front</td>\n",
              "      <td>99.8</td>\n",
              "      <td>176.6</td>\n",
              "      <td>66.2</td>\n",
              "      <td>54.3</td>\n",
              "      <td>2337</td>\n",
              "      <td>ohc</td>\n",
              "      <td>four</td>\n",
              "      <td>109</td>\n",
              "      <td>mpfi</td>\n",
              "      <td>10.0</td>\n",
              "      <td>102</td>\n",
              "      <td>5500</td>\n",
              "      <td>24</td>\n",
              "      <td>30</td>\n",
              "      <td>13950</td>\n",
              "    </tr>\n",
              "    <tr>\n",
              "      <th>4</th>\n",
              "      <td>5</td>\n",
              "      <td>audi</td>\n",
              "      <td>gas</td>\n",
              "      <td>std</td>\n",
              "      <td>four</td>\n",
              "      <td>sedan</td>\n",
              "      <td>4wd</td>\n",
              "      <td>front</td>\n",
              "      <td>99.4</td>\n",
              "      <td>176.6</td>\n",
              "      <td>66.4</td>\n",
              "      <td>54.3</td>\n",
              "      <td>2824</td>\n",
              "      <td>ohc</td>\n",
              "      <td>five</td>\n",
              "      <td>136</td>\n",
              "      <td>mpfi</td>\n",
              "      <td>8.0</td>\n",
              "      <td>115</td>\n",
              "      <td>5500</td>\n",
              "      <td>18</td>\n",
              "      <td>22</td>\n",
              "      <td>17450</td>\n",
              "    </tr>\n",
              "  </tbody>\n",
              "</table>\n",
              "</div>"
            ],
            "text/plain": [
              "   Unnamed: 0         make fuel_type  ... city_mpg highway_mpg  price\n",
              "0           1  alfa-romero       gas  ...       21          27  13495\n",
              "1           2  alfa-romero       gas  ...       21          27  16500\n",
              "2           3  alfa-romero       gas  ...       19          26  16500\n",
              "3           4         audi       gas  ...       24          30  13950\n",
              "4           5         audi       gas  ...       18          22  17450\n",
              "\n",
              "[5 rows x 23 columns]"
            ]
          },
          "metadata": {
            "tags": []
          },
          "execution_count": 5
        }
      ]
    },
    {
      "cell_type": "markdown",
      "metadata": {
        "id": "cYQNROtlOu7-"
      },
      "source": [
        "Select Only Numeric data type, also remove the ID column"
      ]
    },
    {
      "cell_type": "code",
      "metadata": {
        "colab": {
          "base_uri": "https://localhost:8080/",
          "height": 203
        },
        "id": "VT8FiHvrIea8",
        "outputId": "12663789-c0fe-4608-815a-9a2578461dc8"
      },
      "source": [
        "df = df.select_dtypes('number')\n",
        "del df['Unnamed: 0']\n",
        "df.head()"
      ],
      "execution_count": 6,
      "outputs": [
        {
          "output_type": "execute_result",
          "data": {
            "text/html": [
              "<div>\n",
              "<style scoped>\n",
              "    .dataframe tbody tr th:only-of-type {\n",
              "        vertical-align: middle;\n",
              "    }\n",
              "\n",
              "    .dataframe tbody tr th {\n",
              "        vertical-align: top;\n",
              "    }\n",
              "\n",
              "    .dataframe thead th {\n",
              "        text-align: right;\n",
              "    }\n",
              "</style>\n",
              "<table border=\"1\" class=\"dataframe\">\n",
              "  <thead>\n",
              "    <tr style=\"text-align: right;\">\n",
              "      <th></th>\n",
              "      <th>wheel_base</th>\n",
              "      <th>length</th>\n",
              "      <th>width</th>\n",
              "      <th>height</th>\n",
              "      <th>curb_weight</th>\n",
              "      <th>engine_size</th>\n",
              "      <th>compression_ratio</th>\n",
              "      <th>city_mpg</th>\n",
              "      <th>highway_mpg</th>\n",
              "    </tr>\n",
              "  </thead>\n",
              "  <tbody>\n",
              "    <tr>\n",
              "      <th>0</th>\n",
              "      <td>88.6</td>\n",
              "      <td>168.8</td>\n",
              "      <td>64.1</td>\n",
              "      <td>48.8</td>\n",
              "      <td>2548</td>\n",
              "      <td>130</td>\n",
              "      <td>9.0</td>\n",
              "      <td>21</td>\n",
              "      <td>27</td>\n",
              "    </tr>\n",
              "    <tr>\n",
              "      <th>1</th>\n",
              "      <td>88.6</td>\n",
              "      <td>168.8</td>\n",
              "      <td>64.1</td>\n",
              "      <td>48.8</td>\n",
              "      <td>2548</td>\n",
              "      <td>130</td>\n",
              "      <td>9.0</td>\n",
              "      <td>21</td>\n",
              "      <td>27</td>\n",
              "    </tr>\n",
              "    <tr>\n",
              "      <th>2</th>\n",
              "      <td>94.5</td>\n",
              "      <td>171.2</td>\n",
              "      <td>65.5</td>\n",
              "      <td>52.4</td>\n",
              "      <td>2823</td>\n",
              "      <td>152</td>\n",
              "      <td>9.0</td>\n",
              "      <td>19</td>\n",
              "      <td>26</td>\n",
              "    </tr>\n",
              "    <tr>\n",
              "      <th>3</th>\n",
              "      <td>99.8</td>\n",
              "      <td>176.6</td>\n",
              "      <td>66.2</td>\n",
              "      <td>54.3</td>\n",
              "      <td>2337</td>\n",
              "      <td>109</td>\n",
              "      <td>10.0</td>\n",
              "      <td>24</td>\n",
              "      <td>30</td>\n",
              "    </tr>\n",
              "    <tr>\n",
              "      <th>4</th>\n",
              "      <td>99.4</td>\n",
              "      <td>176.6</td>\n",
              "      <td>66.4</td>\n",
              "      <td>54.3</td>\n",
              "      <td>2824</td>\n",
              "      <td>136</td>\n",
              "      <td>8.0</td>\n",
              "      <td>18</td>\n",
              "      <td>22</td>\n",
              "    </tr>\n",
              "  </tbody>\n",
              "</table>\n",
              "</div>"
            ],
            "text/plain": [
              "   wheel_base  length  width  ...  compression_ratio  city_mpg  highway_mpg\n",
              "0        88.6   168.8   64.1  ...                9.0        21           27\n",
              "1        88.6   168.8   64.1  ...                9.0        21           27\n",
              "2        94.5   171.2   65.5  ...                9.0        19           26\n",
              "3        99.8   176.6   66.2  ...               10.0        24           30\n",
              "4        99.4   176.6   66.4  ...                8.0        18           22\n",
              "\n",
              "[5 rows x 9 columns]"
            ]
          },
          "metadata": {
            "tags": []
          },
          "execution_count": 6
        }
      ]
    },
    {
      "cell_type": "markdown",
      "metadata": {
        "id": "Xk922iH3PPH8"
      },
      "source": [
        "Compute the mean for each columns"
      ]
    },
    {
      "cell_type": "code",
      "metadata": {
        "colab": {
          "base_uri": "https://localhost:8080/"
        },
        "id": "qbfoaabxDunz",
        "outputId": "e9193992-0d28-4188-e0c6-d52c425e8d17"
      },
      "source": [
        "mean = []\n",
        "for column in df:\n",
        "    try:\n",
        "        mean.append(df[column].mean())\n",
        "    except:\n",
        "        mean.append(0)\n",
        "\n",
        "mean"
      ],
      "execution_count": 7,
      "outputs": [
        {
          "output_type": "execute_result",
          "data": {
            "text/plain": [
              "[98.75658536585378,\n",
              " 174.04926829268305,\n",
              " 65.90780487804875,\n",
              " 53.724878048780525,\n",
              " 2555.5658536585365,\n",
              " 126.90731707317073,\n",
              " 10.142536585365855,\n",
              " 25.21951219512195,\n",
              " 30.75121951219512]"
            ]
          },
          "metadata": {
            "tags": []
          },
          "execution_count": 7
        }
      ]
    },
    {
      "cell_type": "markdown",
      "metadata": {
        "id": "xghFWdC-PTVz"
      },
      "source": [
        "Subtract mean from each values to make resulting mean to 0"
      ]
    },
    {
      "cell_type": "code",
      "metadata": {
        "colab": {
          "base_uri": "https://localhost:8080/",
          "height": 417
        },
        "id": "U-7KT_kEH0uE",
        "outputId": "9d08ff7a-f53b-4b8f-ed10-5d02cb218ccc"
      },
      "source": [
        "data = df - mean\n",
        "data"
      ],
      "execution_count": 8,
      "outputs": [
        {
          "output_type": "execute_result",
          "data": {
            "text/html": [
              "<div>\n",
              "<style scoped>\n",
              "    .dataframe tbody tr th:only-of-type {\n",
              "        vertical-align: middle;\n",
              "    }\n",
              "\n",
              "    .dataframe tbody tr th {\n",
              "        vertical-align: top;\n",
              "    }\n",
              "\n",
              "    .dataframe thead th {\n",
              "        text-align: right;\n",
              "    }\n",
              "</style>\n",
              "<table border=\"1\" class=\"dataframe\">\n",
              "  <thead>\n",
              "    <tr style=\"text-align: right;\">\n",
              "      <th></th>\n",
              "      <th>wheel_base</th>\n",
              "      <th>length</th>\n",
              "      <th>width</th>\n",
              "      <th>height</th>\n",
              "      <th>curb_weight</th>\n",
              "      <th>engine_size</th>\n",
              "      <th>compression_ratio</th>\n",
              "      <th>city_mpg</th>\n",
              "      <th>highway_mpg</th>\n",
              "    </tr>\n",
              "  </thead>\n",
              "  <tbody>\n",
              "    <tr>\n",
              "      <th>0</th>\n",
              "      <td>-10.156585</td>\n",
              "      <td>-5.249268</td>\n",
              "      <td>-1.807805</td>\n",
              "      <td>-4.924878</td>\n",
              "      <td>-7.565854</td>\n",
              "      <td>3.092683</td>\n",
              "      <td>-1.142537</td>\n",
              "      <td>-4.219512</td>\n",
              "      <td>-3.75122</td>\n",
              "    </tr>\n",
              "    <tr>\n",
              "      <th>1</th>\n",
              "      <td>-10.156585</td>\n",
              "      <td>-5.249268</td>\n",
              "      <td>-1.807805</td>\n",
              "      <td>-4.924878</td>\n",
              "      <td>-7.565854</td>\n",
              "      <td>3.092683</td>\n",
              "      <td>-1.142537</td>\n",
              "      <td>-4.219512</td>\n",
              "      <td>-3.75122</td>\n",
              "    </tr>\n",
              "    <tr>\n",
              "      <th>2</th>\n",
              "      <td>-4.256585</td>\n",
              "      <td>-2.849268</td>\n",
              "      <td>-0.407805</td>\n",
              "      <td>-1.324878</td>\n",
              "      <td>267.434146</td>\n",
              "      <td>25.092683</td>\n",
              "      <td>-1.142537</td>\n",
              "      <td>-6.219512</td>\n",
              "      <td>-4.75122</td>\n",
              "    </tr>\n",
              "    <tr>\n",
              "      <th>3</th>\n",
              "      <td>1.043415</td>\n",
              "      <td>2.550732</td>\n",
              "      <td>0.292195</td>\n",
              "      <td>0.575122</td>\n",
              "      <td>-218.565854</td>\n",
              "      <td>-17.907317</td>\n",
              "      <td>-0.142537</td>\n",
              "      <td>-1.219512</td>\n",
              "      <td>-0.75122</td>\n",
              "    </tr>\n",
              "    <tr>\n",
              "      <th>4</th>\n",
              "      <td>0.643415</td>\n",
              "      <td>2.550732</td>\n",
              "      <td>0.492195</td>\n",
              "      <td>0.575122</td>\n",
              "      <td>268.434146</td>\n",
              "      <td>9.092683</td>\n",
              "      <td>-2.142537</td>\n",
              "      <td>-7.219512</td>\n",
              "      <td>-8.75122</td>\n",
              "    </tr>\n",
              "    <tr>\n",
              "      <th>...</th>\n",
              "      <td>...</td>\n",
              "      <td>...</td>\n",
              "      <td>...</td>\n",
              "      <td>...</td>\n",
              "      <td>...</td>\n",
              "      <td>...</td>\n",
              "      <td>...</td>\n",
              "      <td>...</td>\n",
              "      <td>...</td>\n",
              "    </tr>\n",
              "    <tr>\n",
              "      <th>200</th>\n",
              "      <td>10.343415</td>\n",
              "      <td>14.750732</td>\n",
              "      <td>2.992195</td>\n",
              "      <td>1.775122</td>\n",
              "      <td>396.434146</td>\n",
              "      <td>14.092683</td>\n",
              "      <td>-0.642537</td>\n",
              "      <td>-2.219512</td>\n",
              "      <td>-2.75122</td>\n",
              "    </tr>\n",
              "    <tr>\n",
              "      <th>201</th>\n",
              "      <td>10.343415</td>\n",
              "      <td>14.750732</td>\n",
              "      <td>2.892195</td>\n",
              "      <td>1.775122</td>\n",
              "      <td>493.434146</td>\n",
              "      <td>14.092683</td>\n",
              "      <td>-1.442537</td>\n",
              "      <td>-6.219512</td>\n",
              "      <td>-5.75122</td>\n",
              "    </tr>\n",
              "    <tr>\n",
              "      <th>202</th>\n",
              "      <td>10.343415</td>\n",
              "      <td>14.750732</td>\n",
              "      <td>2.992195</td>\n",
              "      <td>1.775122</td>\n",
              "      <td>456.434146</td>\n",
              "      <td>46.092683</td>\n",
              "      <td>-1.342537</td>\n",
              "      <td>-7.219512</td>\n",
              "      <td>-7.75122</td>\n",
              "    </tr>\n",
              "    <tr>\n",
              "      <th>203</th>\n",
              "      <td>10.343415</td>\n",
              "      <td>14.750732</td>\n",
              "      <td>2.992195</td>\n",
              "      <td>1.775122</td>\n",
              "      <td>661.434146</td>\n",
              "      <td>18.092683</td>\n",
              "      <td>12.857463</td>\n",
              "      <td>0.780488</td>\n",
              "      <td>-3.75122</td>\n",
              "    </tr>\n",
              "    <tr>\n",
              "      <th>204</th>\n",
              "      <td>10.343415</td>\n",
              "      <td>14.750732</td>\n",
              "      <td>2.992195</td>\n",
              "      <td>1.775122</td>\n",
              "      <td>506.434146</td>\n",
              "      <td>14.092683</td>\n",
              "      <td>-0.642537</td>\n",
              "      <td>-6.219512</td>\n",
              "      <td>-5.75122</td>\n",
              "    </tr>\n",
              "  </tbody>\n",
              "</table>\n",
              "<p>205 rows × 9 columns</p>\n",
              "</div>"
            ],
            "text/plain": [
              "     wheel_base     length     width  ...  compression_ratio  city_mpg  highway_mpg\n",
              "0    -10.156585  -5.249268 -1.807805  ...          -1.142537 -4.219512     -3.75122\n",
              "1    -10.156585  -5.249268 -1.807805  ...          -1.142537 -4.219512     -3.75122\n",
              "2     -4.256585  -2.849268 -0.407805  ...          -1.142537 -6.219512     -4.75122\n",
              "3      1.043415   2.550732  0.292195  ...          -0.142537 -1.219512     -0.75122\n",
              "4      0.643415   2.550732  0.492195  ...          -2.142537 -7.219512     -8.75122\n",
              "..          ...        ...       ...  ...                ...       ...          ...\n",
              "200   10.343415  14.750732  2.992195  ...          -0.642537 -2.219512     -2.75122\n",
              "201   10.343415  14.750732  2.892195  ...          -1.442537 -6.219512     -5.75122\n",
              "202   10.343415  14.750732  2.992195  ...          -1.342537 -7.219512     -7.75122\n",
              "203   10.343415  14.750732  2.992195  ...          12.857463  0.780488     -3.75122\n",
              "204   10.343415  14.750732  2.992195  ...          -0.642537 -6.219512     -5.75122\n",
              "\n",
              "[205 rows x 9 columns]"
            ]
          },
          "metadata": {
            "tags": []
          },
          "execution_count": 8
        }
      ]
    },
    {
      "cell_type": "markdown",
      "metadata": {
        "id": "l4bSzvgbPdYw"
      },
      "source": [
        "Calculate the covariance matrix"
      ]
    },
    {
      "cell_type": "code",
      "metadata": {
        "colab": {
          "base_uri": "https://localhost:8080/"
        },
        "id": "jweDl1mPIzYc",
        "outputId": "c9a7a9fd-2c0a-4d3a-9690-6c6c176df130"
      },
      "source": [
        "cov = np.cov(data.T)\n",
        "cov"
      ],
      "execution_count": 9,
      "outputs": [
        {
          "output_type": "execute_result",
          "data": {
            "text/plain": [
              "array([[ 3.62617824e+01,  6.49751887e+01,  1.02716150e+01,\n",
              "         8.67314419e+00,  2.43429675e+03,  1.42766545e+02,\n",
              "         5.97456165e+00, -1.85320899e+01, -2.25623242e+01],\n",
              "       [ 6.49751887e+01,  1.52208688e+02,  2.22610352e+01,\n",
              "         1.48027879e+01,  5.63833620e+03,  3.51081549e+02,\n",
              "         7.76293814e+00, -5.41505739e+01, -5.98680751e+01],\n",
              "       [ 1.02716150e+01,  2.22610352e+01,  4.60189957e+00,\n",
              "         1.46357939e+00,  9.68445072e+02,  6.56977857e+01,\n",
              "         1.54336736e+00, -9.01985892e+00, -1.00044213e+01],\n",
              "       [ 8.67314419e+00,  1.48027879e+01,  1.46357939e+00,\n",
              "         5.97079962e+00,  3.76053991e+02,  6.83270923e+00,\n",
              "         2.53528462e+00, -7.77546628e-01, -1.80652559e+00],\n",
              "       [ 2.43429675e+03,  5.63833620e+03,  9.68445072e+02,\n",
              "         3.76053991e+02,  2.71107874e+05,  1.84430282e+04,\n",
              "         3.13040714e+02, -2.58002678e+03, -2.85941736e+03],\n",
              "       [ 1.42766545e+02,  3.51081549e+02,  6.56977857e+01,\n",
              "         6.83270923e+00,  1.84430282e+04,  1.73411392e+03,\n",
              "         4.79204998e+00, -1.78077594e+02, -1.94278073e+02],\n",
              "       [ 5.97456165e+00,  7.76293814e+00,  1.54336736e+00,\n",
              "         2.53528462e+00,  3.13040714e+02,  4.79204998e+00,\n",
              "         1.57771043e+01,  8.43757771e+00,  7.25411454e+00],\n",
              "       [-1.85320899e+01, -5.41505739e+01, -9.01985892e+00,\n",
              "        -7.77546628e-01, -2.58002678e+03, -1.78077594e+02,\n",
              "         8.43757771e+00,  4.27996174e+01,  4.37607604e+01],\n",
              "       [-2.25623242e+01, -5.98680751e+01, -1.00044213e+01,\n",
              "        -1.80652559e+00, -2.85941736e+03, -1.94278073e+02,\n",
              "         7.25411454e+00,  4.37607604e+01,  4.74230990e+01]])"
            ]
          },
          "metadata": {
            "tags": []
          },
          "execution_count": 9
        }
      ]
    },
    {
      "cell_type": "markdown",
      "metadata": {
        "id": "1XwGcmn3Pgbs"
      },
      "source": [
        "Calculate the eigen value and the eigen matrix for the covariance matrix"
      ]
    },
    {
      "cell_type": "code",
      "metadata": {
        "colab": {
          "base_uri": "https://localhost:8080/"
        },
        "id": "GiJThaobI9JS",
        "outputId": "035ec09f-839f-4ea6-d2f9-d1f2cf54dd05"
      },
      "source": [
        "eigenValues, eigenVectors = np.linalg.eig(cov)\n",
        "eigenValues, eigenVectors"
      ],
      "execution_count": 10,
      "outputs": [
        {
          "output_type": "execute_result",
          "data": {
            "text/plain": [
              "(array([2.72562814e+05, 4.82373570e+02, 4.53909974e+01, 3.88553515e+01,\n",
              "        7.13332114e+00, 5.72907881e+00, 2.90511511e+00, 7.89694689e-01,\n",
              "        1.03960752e+00]),\n",
              " array([[-8.95068865e-03,  5.21191063e-02, -3.13564035e-01,\n",
              "         -3.19945145e-01, -6.13720594e-01, -5.49767560e-01,\n",
              "         -2.76877404e-01, -1.88651500e-01,  7.32690974e-02],\n",
              "        [-2.07368576e-02,  7.59080557e-02, -3.37455585e-01,\n",
              "         -8.12808197e-01,  3.46428104e-01,  2.99557945e-01,\n",
              "         -4.28738052e-02, -9.55793168e-03, -8.71642219e-02],\n",
              "        [-3.56278491e-03,  1.16373117e-03, -3.64295805e-02,\n",
              "         -5.34167761e-02, -7.78950101e-03, -7.86754073e-02,\n",
              "         -2.39007810e-01,  8.96436802e-01,  3.58930796e-01],\n",
              "        [-1.37927548e-03,  4.09819979e-02, -1.58194912e-01,\n",
              "         -1.23781854e-01, -2.18684683e-01, -9.07827479e-02,\n",
              "          9.23636572e-01,  1.62692078e-01,  1.49443197e-01],\n",
              "        [-9.97323551e-01,  6.55203833e-02,  4.44635717e-03,\n",
              "          3.05421867e-02, -5.37009397e-03,  8.35797387e-03,\n",
              "          2.64266946e-04, -1.16518589e-03, -3.13819035e-04],\n",
              "        [-6.79625452e-02, -9.92072185e-01, -6.74779339e-02,\n",
              "         -7.21923837e-02,  6.70410649e-03, -2.96583019e-02,\n",
              "          2.17528020e-02, -3.17666032e-03,  1.01272901e-03],\n",
              "        [-1.14694183e-03,  3.60461939e-02, -4.17520874e-01,\n",
              "          2.20683654e-01,  6.37928774e-01, -6.01433442e-01,\n",
              "          5.13990482e-02, -5.31042121e-02,  3.92068181e-02],\n",
              "        [ 9.49286884e-03,  6.41390051e-03, -5.53620404e-01,\n",
              "          2.88766924e-01, -2.03839507e-01,  2.04450550e-01,\n",
              "         -2.40385177e-02,  2.73474766e-01, -6.71766320e-01],\n",
              "        [ 1.05199803e-02,  2.84713334e-04, -5.25410607e-01,\n",
              "          2.83849366e-01, -8.29064841e-02,  4.34876599e-01,\n",
              "         -8.70547175e-02, -2.37974055e-01,  6.18919352e-01]]))"
            ]
          },
          "metadata": {
            "tags": []
          },
          "execution_count": 10
        }
      ]
    },
    {
      "cell_type": "markdown",
      "metadata": {
        "id": "9MvegC_bPmLb"
      },
      "source": [
        "Sort `eigenValues`, `eigenVectors` and `columns` based on `eigenValues`"
      ]
    },
    {
      "cell_type": "code",
      "metadata": {
        "colab": {
          "base_uri": "https://localhost:8080/"
        },
        "id": "mDL5sqoDJ2BC",
        "outputId": "9ca77365-6631-4653-8150-da987096bfdd"
      },
      "source": [
        "eigenValues, eigenVectors = zip(*sorted(zip(eigenValues, eigenVectors), reverse=True))\n",
        "_,columns = zip(*sorted(zip(eigenValues, df.columns.values), reverse=True))\n",
        "\n",
        "eigenValues, eigenVectors, columns"
      ],
      "execution_count": 11,
      "outputs": [
        {
          "output_type": "execute_result",
          "data": {
            "text/plain": [
              "((272562.81448965694,\n",
              "  482.37356991236527,\n",
              "  45.39099744165567,\n",
              "  38.85535150851589,\n",
              "  7.133321135125311,\n",
              "  5.729078809206863,\n",
              "  2.905115114450222,\n",
              "  1.0396075242387464,\n",
              "  0.7896946890759104),\n",
              " (array([-0.00895069,  0.05211911, -0.31356403, -0.31994515, -0.61372059,\n",
              "         -0.54976756, -0.2768774 , -0.1886515 ,  0.0732691 ]),\n",
              "  array([-0.02073686,  0.07590806, -0.33745558, -0.8128082 ,  0.3464281 ,\n",
              "          0.29955795, -0.04287381, -0.00955793, -0.08716422]),\n",
              "  array([-0.00356278,  0.00116373, -0.03642958, -0.05341678, -0.0077895 ,\n",
              "         -0.07867541, -0.23900781,  0.8964368 ,  0.3589308 ]),\n",
              "  array([-0.00137928,  0.040982  , -0.15819491, -0.12378185, -0.21868468,\n",
              "         -0.09078275,  0.92363657,  0.16269208,  0.1494432 ]),\n",
              "  array([-9.97323551e-01,  6.55203833e-02,  4.44635717e-03,  3.05421867e-02,\n",
              "         -5.37009397e-03,  8.35797387e-03,  2.64266946e-04, -1.16518589e-03,\n",
              "         -3.13819035e-04]),\n",
              "  array([-0.06796255, -0.99207218, -0.06747793, -0.07219238,  0.00670411,\n",
              "         -0.0296583 ,  0.0217528 , -0.00317666,  0.00101273]),\n",
              "  array([-0.00114694,  0.03604619, -0.41752087,  0.22068365,  0.63792877,\n",
              "         -0.60143344,  0.05139905, -0.05310421,  0.03920682]),\n",
              "  array([ 1.05199803e-02,  2.84713334e-04, -5.25410607e-01,  2.83849366e-01,\n",
              "         -8.29064841e-02,  4.34876599e-01, -8.70547175e-02, -2.37974055e-01,\n",
              "          6.18919352e-01]),\n",
              "  array([ 0.00949287,  0.0064139 , -0.5536204 ,  0.28876692, -0.20383951,\n",
              "          0.20445055, -0.02403852,  0.27347477, -0.67176632])),\n",
              " ('wheel_base',\n",
              "  'length',\n",
              "  'width',\n",
              "  'height',\n",
              "  'curb_weight',\n",
              "  'engine_size',\n",
              "  'compression_ratio',\n",
              "  'city_mpg',\n",
              "  'highway_mpg'))"
            ]
          },
          "metadata": {
            "tags": []
          },
          "execution_count": 11
        }
      ]
    },
    {
      "cell_type": "markdown",
      "metadata": {
        "id": "MK8yKcSMP0nE"
      },
      "source": [
        "Take only 5 components and compute the dot product to get final component."
      ]
    },
    {
      "cell_type": "code",
      "metadata": {
        "id": "Ti0mOryaLVOM"
      },
      "source": [
        "finalColumns = {}\n",
        "index = 0\n",
        "for vector in eigenVectors[0:5]:\n",
        "    finalColumns[columns[index]] = vector.T.dot(data.T)\n",
        "    index += 1"
      ],
      "execution_count": 12,
      "outputs": []
    },
    {
      "cell_type": "markdown",
      "metadata": {
        "id": "0sq5hopvOW8F"
      },
      "source": [
        "The 5 principal components are"
      ]
    },
    {
      "cell_type": "code",
      "metadata": {
        "colab": {
          "base_uri": "https://localhost:8080/",
          "height": 417
        },
        "id": "lWiuAFKxOS9U",
        "outputId": "63dd5160-3a08-4820-dd9c-04da9d0fba7f"
      },
      "source": [
        "pd.DataFrame(finalColumns)"
      ],
      "execution_count": 13,
      "outputs": [
        {
          "output_type": "execute_result",
          "data": {
            "text/html": [
              "<div>\n",
              "<style scoped>\n",
              "    .dataframe tbody tr th:only-of-type {\n",
              "        vertical-align: middle;\n",
              "    }\n",
              "\n",
              "    .dataframe tbody tr th {\n",
              "        vertical-align: top;\n",
              "    }\n",
              "\n",
              "    .dataframe thead th {\n",
              "        text-align: right;\n",
              "    }\n",
              "</style>\n",
              "<table border=\"1\" class=\"dataframe\">\n",
              "  <thead>\n",
              "    <tr style=\"text-align: right;\">\n",
              "      <th></th>\n",
              "      <th>wheel_base</th>\n",
              "      <th>length</th>\n",
              "      <th>width</th>\n",
              "      <th>height</th>\n",
              "      <th>curb_weight</th>\n",
              "    </tr>\n",
              "  </thead>\n",
              "  <tbody>\n",
              "    <tr>\n",
              "      <th>0</th>\n",
              "      <td>5.740450</td>\n",
              "      <td>3.146889</td>\n",
              "      <td>-4.681257</td>\n",
              "      <td>-0.234111</td>\n",
              "      <td>9.699283</td>\n",
              "    </tr>\n",
              "    <tr>\n",
              "      <th>1</th>\n",
              "      <td>5.740450</td>\n",
              "      <td>3.146889</td>\n",
              "      <td>-4.681257</td>\n",
              "      <td>-0.234111</td>\n",
              "      <td>9.699283</td>\n",
              "    </tr>\n",
              "    <tr>\n",
              "      <th>2</th>\n",
              "      <td>-176.342082</td>\n",
              "      <td>101.772457</td>\n",
              "      <td>-10.967563</td>\n",
              "      <td>-63.421315</td>\n",
              "      <td>2.798243</td>\n",
              "    </tr>\n",
              "    <tr>\n",
              "      <th>3</th>\n",
              "      <td>144.045688</td>\n",
              "      <td>-81.392470</td>\n",
              "      <td>1.740486</td>\n",
              "      <td>48.966040</td>\n",
              "      <td>0.171037</td>\n",
              "    </tr>\n",
              "    <tr>\n",
              "      <th>4</th>\n",
              "      <td>-168.639587</td>\n",
              "      <td>96.187294</td>\n",
              "      <td>-11.955150</td>\n",
              "      <td>-64.034594</td>\n",
              "      <td>-1.809742</td>\n",
              "    </tr>\n",
              "    <tr>\n",
              "      <th>...</th>\n",
              "      <td>...</td>\n",
              "      <td>...</td>\n",
              "      <td>...</td>\n",
              "      <td>...</td>\n",
              "      <td>...</td>\n",
              "    </tr>\n",
              "    <tr>\n",
              "      <th>200</th>\n",
              "      <td>-251.482433</td>\n",
              "      <td>140.298718</td>\n",
              "      <td>-7.243861</td>\n",
              "      <td>-89.441997</td>\n",
              "      <td>-11.289560</td>\n",
              "    </tr>\n",
              "    <tr>\n",
              "      <th>201</th>\n",
              "      <td>-310.225674</td>\n",
              "      <td>174.270013</td>\n",
              "      <td>-12.467133</td>\n",
              "      <td>-112.476598</td>\n",
              "      <td>-11.805513</td>\n",
              "    </tr>\n",
              "    <tr>\n",
              "      <th>202</th>\n",
              "      <td>-305.127505</td>\n",
              "      <td>171.183881</td>\n",
              "      <td>-16.338377</td>\n",
              "      <td>-107.675347</td>\n",
              "      <td>-11.337100</td>\n",
              "    </tr>\n",
              "    <tr>\n",
              "      <th>203</th>\n",
              "      <td>-420.694529</td>\n",
              "      <td>232.780091</td>\n",
              "      <td>-10.519007</td>\n",
              "      <td>-134.948842</td>\n",
              "      <td>-12.678817</td>\n",
              "    </tr>\n",
              "    <tr>\n",
              "      <th>204</th>\n",
              "      <td>-318.456900</td>\n",
              "      <td>178.705533</td>\n",
              "      <td>-12.763246</td>\n",
              "      <td>-114.596410</td>\n",
              "      <td>-11.874668</td>\n",
              "    </tr>\n",
              "  </tbody>\n",
              "</table>\n",
              "<p>205 rows × 5 columns</p>\n",
              "</div>"
            ],
            "text/plain": [
              "     wheel_base      length      width      height  curb_weight\n",
              "0      5.740450    3.146889  -4.681257   -0.234111     9.699283\n",
              "1      5.740450    3.146889  -4.681257   -0.234111     9.699283\n",
              "2   -176.342082  101.772457 -10.967563  -63.421315     2.798243\n",
              "3    144.045688  -81.392470   1.740486   48.966040     0.171037\n",
              "4   -168.639587   96.187294 -11.955150  -64.034594    -1.809742\n",
              "..          ...         ...        ...         ...          ...\n",
              "200 -251.482433  140.298718  -7.243861  -89.441997   -11.289560\n",
              "201 -310.225674  174.270013 -12.467133 -112.476598   -11.805513\n",
              "202 -305.127505  171.183881 -16.338377 -107.675347   -11.337100\n",
              "203 -420.694529  232.780091 -10.519007 -134.948842   -12.678817\n",
              "204 -318.456900  178.705533 -12.763246 -114.596410   -11.874668\n",
              "\n",
              "[205 rows x 5 columns]"
            ]
          },
          "metadata": {
            "tags": []
          },
          "execution_count": 13
        }
      ]
    }
  ]
}